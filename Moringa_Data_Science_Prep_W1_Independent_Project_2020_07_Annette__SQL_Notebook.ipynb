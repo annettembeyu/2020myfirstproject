{
  "nbformat": 4,
  "nbformat_minor": 0,
  "metadata": {
    "colab": {
      "name": "Moringa_Data_Science_Prep_W1_Independent_Project_2020_07_Annette__SQL_Notebook.ipynb",
      "provenance": [],
      "collapsed_sections": [],
      "include_colab_link": true
    },
    "kernelspec": {
      "name": "python3",
      "display_name": "Python 3"
    }
  },
  "cells": [
    {
      "cell_type": "markdown",
      "metadata": {
        "id": "view-in-github",
        "colab_type": "text"
      },
      "source": [
        "<a href=\"https://colab.research.google.com/github/annettembeyu/2020myfirstproject/blob/master/Moringa_Data_Science_Prep_W1_Independent_Project_2020_07_Annette__SQL_Notebook.ipynb\" target=\"_parent\"><img src=\"https://colab.research.google.com/assets/colab-badge.svg\" alt=\"Open In Colab\"/></a>"
      ]
    },
    {
      "cell_type": "code",
      "metadata": {
        "id": "03Cp8uxxSKZ3",
        "colab_type": "code",
        "colab": {
          "base_uri": "https://localhost:8080/",
          "height": 35
        },
        "outputId": "2081579b-2608-4223-e649-e2a6a80d208d"
      },
      "source": [
        "# We will first load the sql extension into our environment\n",
        "#\n",
        "%load_ext sql\n",
        "# Then connect to our in memory sqlite database\n",
        "# NB: This database will cease to exist as soon as the database connection is closed\n",
        "#\n",
        "%sql sqlite://"
      ],
      "execution_count": null,
      "outputs": [
        {
          "output_type": "execute_result",
          "data": {
            "application/vnd.google.colaboratory.intrinsic": {
              "type": "string"
            },
            "text/plain": [
              "'Connected: @None'"
            ]
          },
          "metadata": {
            "tags": []
          },
          "execution_count": 1
        }
      ]
    },
    {
      "cell_type": "code",
      "metadata": {
        "colab_type": "code",
        "id": "PPWjm8Mfts-S",
        "colab": {}
      },
      "source": [
        "# Importing the python libraries that we will need in this notebook\n",
        "#\n",
        "import csv\n",
        "import pandas as pd"
      ],
      "execution_count": null,
      "outputs": []
    },
    {
      "cell_type": "code",
      "metadata": {
        "colab_type": "code",
        "id": "TP6vf7jtts-V",
        "colab": {
          "base_uri": "https://localhost:8080/",
          "height": 90
        },
        "outputId": "645046e9-5779-430e-f72e-027fdf536d8f"
      },
      "source": [
        "# Display a list of Sub Counties and their population and areas.\n",
        "# We will load all the other dataset that we will need i.e. WorldCup\n",
        "\n",
        "with open('Karamoja.csv','r') as f:\n",
        "    Karamoja = pd.read_csv(f, index_col=0, encoding='utf-8') \n",
        "# Then storing it in an SQL table of our in memory sqlite database\n",
        "#\n",
        "%sql DROP TABLE if EXISTS Karamoja;\n",
        "%sql PERSIST Karamoja;"
      ],
      "execution_count": null,
      "outputs": [
        {
          "output_type": "stream",
          "text": [
            " * sqlite://\n",
            "Done.\n",
            " * sqlite://\n"
          ],
          "name": "stdout"
        },
        {
          "output_type": "execute_result",
          "data": {
            "application/vnd.google.colaboratory.intrinsic": {
              "type": "string"
            },
            "text/plain": [
              "'Persisted karamoja'"
            ]
          },
          "metadata": {
            "tags": []
          },
          "execution_count": 4
        }
      ]
    },
    {
      "cell_type": "code",
      "metadata": {
        "colab_type": "code",
        "id": "j86AkFjbts-Y",
        "colab": {
          "base_uri": "https://localhost:8080/",
          "height": 1000
        },
        "outputId": "5044fbfe-845e-4970-e13a-cfcce847c4fd"
      },
      "source": [
        "# Display a list of Sub Counties and their population and areas\n",
        "%%sql\n",
        "SELECT \"SUBCOUNTY_NAME\", \"POP\", \"Area\" FROM Karamoja;"
      ],
      "execution_count": null,
      "outputs": [
        {
          "output_type": "stream",
          "text": [
            " * sqlite://\n",
            "Done.\n"
          ],
          "name": "stdout"
        },
        {
          "output_type": "execute_result",
          "data": {
            "text/html": [
              "<table>\n",
              "    <tr>\n",
              "        <th>SUBCOUNTY_NAME</th>\n",
              "        <th>POP</th>\n",
              "        <th>Area</th>\n",
              "    </tr>\n",
              "    <tr>\n",
              "        <td>KACHERI</td>\n",
              "        <td>17244</td>\n",
              "        <td>1067176155</td>\n",
              "    </tr>\n",
              "    <tr>\n",
              "        <td>KOTIDO</td>\n",
              "        <td>52771</td>\n",
              "        <td>597575188</td>\n",
              "    </tr>\n",
              "    <tr>\n",
              "        <td>KOTIDO TOWN COUNCIL</td>\n",
              "        <td>27389</td>\n",
              "        <td>23972401</td>\n",
              "    </tr>\n",
              "    <tr>\n",
              "        <td>NAKAPERIMORU</td>\n",
              "        <td>38775</td>\n",
              "        <td>419111591</td>\n",
              "    </tr>\n",
              "    <tr>\n",
              "        <td>PANYANGARA</td>\n",
              "        <td>65704</td>\n",
              "        <td>880955930</td>\n",
              "    </tr>\n",
              "    <tr>\n",
              "        <td>RENGEN</td>\n",
              "        <td>41273</td>\n",
              "        <td>652744859</td>\n",
              "    </tr>\n",
              "    <tr>\n",
              "        <td>KAABONG  EAST</td>\n",
              "        <td>42221</td>\n",
              "        <td>60801942</td>\n",
              "    </tr>\n",
              "    <tr>\n",
              "        <td>KAABONG TOWN COUNCIL</td>\n",
              "        <td>38857</td>\n",
              "        <td>13071455</td>\n",
              "    </tr>\n",
              "    <tr>\n",
              "        <td>KAABONG WEST</td>\n",
              "        <td>41454</td>\n",
              "        <td>67612362</td>\n",
              "    </tr>\n",
              "    <tr>\n",
              "        <td>KALAPATA</td>\n",
              "        <td>99203</td>\n",
              "        <td>223116860</td>\n",
              "    </tr>\n",
              "    <tr>\n",
              "        <td>KAMION</td>\n",
              "        <td>60070</td>\n",
              "        <td>1199409465</td>\n",
              "    </tr>\n",
              "    <tr>\n",
              "        <td>KAPEDO</td>\n",
              "        <td>33951</td>\n",
              "        <td>304557831</td>\n",
              "    </tr>\n",
              "    <tr>\n",
              "        <td>KATHILE</td>\n",
              "        <td>56870</td>\n",
              "        <td>228457417</td>\n",
              "    </tr>\n",
              "    <tr>\n",
              "        <td>KAWALAKOL</td>\n",
              "        <td>37691</td>\n",
              "        <td>1742041261</td>\n",
              "    </tr>\n",
              "    <tr>\n",
              "        <td>LOBALANGIT</td>\n",
              "        <td>22907</td>\n",
              "        <td>302572789</td>\n",
              "    </tr>\n",
              "    <tr>\n",
              "        <td>LODIKO</td>\n",
              "        <td>31820</td>\n",
              "        <td>397700845</td>\n",
              "    </tr>\n",
              "    <tr>\n",
              "        <td>LOLELIA</td>\n",
              "        <td>100919</td>\n",
              "        <td>1069331387</td>\n",
              "    </tr>\n",
              "    <tr>\n",
              "        <td>LOYORO</td>\n",
              "        <td>16608</td>\n",
              "        <td>1330019236</td>\n",
              "    </tr>\n",
              "    <tr>\n",
              "        <td>NAPORE (KARENGA)</td>\n",
              "        <td>20394</td>\n",
              "        <td>309577387</td>\n",
              "    </tr>\n",
              "    <tr>\n",
              "        <td>SIDOK</td>\n",
              "        <td>24092</td>\n",
              "        <td>125330583</td>\n",
              "    </tr>\n",
              "    <tr>\n",
              "        <td>ABIM</td>\n",
              "        <td>14377</td>\n",
              "        <td>188613057</td>\n",
              "    </tr>\n",
              "    <tr>\n",
              "        <td>ABIM TOWN COUNCIL</td>\n",
              "        <td>11489</td>\n",
              "        <td>115941152</td>\n",
              "    </tr>\n",
              "    <tr>\n",
              "        <td>ALEREK</td>\n",
              "        <td>12573</td>\n",
              "        <td>1255760525</td>\n",
              "    </tr>\n",
              "    <tr>\n",
              "        <td>LOTUKEI</td>\n",
              "        <td>18641</td>\n",
              "        <td>191684465</td>\n",
              "    </tr>\n",
              "    <tr>\n",
              "        <td>MORULEM</td>\n",
              "        <td>16834</td>\n",
              "        <td>250364895</td>\n",
              "    </tr>\n",
              "    <tr>\n",
              "        <td>KARITA</td>\n",
              "        <td>45015</td>\n",
              "        <td>658008801</td>\n",
              "    </tr>\n",
              "    <tr>\n",
              "        <td>LOROO</td>\n",
              "        <td>22541</td>\n",
              "        <td>371970302</td>\n",
              "    </tr>\n",
              "    <tr>\n",
              "        <td>AMUDAT</td>\n",
              "        <td>30181</td>\n",
              "        <td>596393139</td>\n",
              "    </tr>\n",
              "    <tr>\n",
              "        <td>AMUDAT TOWN COUNCIL</td>\n",
              "        <td>4053</td>\n",
              "        <td>17207110</td>\n",
              "    </tr>\n",
              "    <tr>\n",
              "        <td>KATIKEKILE</td>\n",
              "        <td>11772</td>\n",
              "        <td>277451997</td>\n",
              "    </tr>\n",
              "    <tr>\n",
              "        <td>NADUNGET</td>\n",
              "        <td>42115</td>\n",
              "        <td>596023780</td>\n",
              "    </tr>\n",
              "    <tr>\n",
              "        <td>TAPAC</td>\n",
              "        <td>21999</td>\n",
              "        <td>622266516</td>\n",
              "    </tr>\n",
              "    <tr>\n",
              "        <td>NORTHERN DIVISION</td>\n",
              "        <td>7161</td>\n",
              "        <td>2738777</td>\n",
              "    </tr>\n",
              "    <tr>\n",
              "        <td>SOUTHERN DIVISION</td>\n",
              "        <td>3272</td>\n",
              "        <td>2121209</td>\n",
              "    </tr>\n",
              "    <tr>\n",
              "        <td>LOREGAE</td>\n",
              "        <td>26644</td>\n",
              "        <td>928683431</td>\n",
              "    </tr>\n",
              "    <tr>\n",
              "        <td>NAKAPIRIPIRIT TOWN COUNCIL</td>\n",
              "        <td>1418</td>\n",
              "        <td>4673094</td>\n",
              "    </tr>\n",
              "    <tr>\n",
              "        <td>NAMALU</td>\n",
              "        <td>25905</td>\n",
              "        <td>553067364</td>\n",
              "    </tr>\n",
              "    <tr>\n",
              "        <td>KAKOMONGOLE</td>\n",
              "        <td>15960</td>\n",
              "        <td>312709097</td>\n",
              "    </tr>\n",
              "    <tr>\n",
              "        <td>LOLACHAT</td>\n",
              "        <td>22801</td>\n",
              "        <td>642401705</td>\n",
              "    </tr>\n",
              "    <tr>\n",
              "        <td>LORENGEDWAT</td>\n",
              "        <td>9929</td>\n",
              "        <td>435714604</td>\n",
              "    </tr>\n",
              "    <tr>\n",
              "        <td>NABILATUK</td>\n",
              "        <td>27534</td>\n",
              "        <td>499776866</td>\n",
              "    </tr>\n",
              "    <tr>\n",
              "        <td>IRIIRI</td>\n",
              "        <td>46979</td>\n",
              "        <td>1030623258</td>\n",
              "    </tr>\n",
              "    <tr>\n",
              "        <td>LOPEEI</td>\n",
              "        <td>18815</td>\n",
              "        <td>790782350</td>\n",
              "    </tr>\n",
              "    <tr>\n",
              "        <td>LORENGECORA</td>\n",
              "        <td>2503</td>\n",
              "        <td>118997955</td>\n",
              "    </tr>\n",
              "    <tr>\n",
              "        <td>LOTOME</td>\n",
              "        <td>17834</td>\n",
              "        <td>125857565</td>\n",
              "    </tr>\n",
              "    <tr>\n",
              "        <td>MATANY</td>\n",
              "        <td>29495</td>\n",
              "        <td>338252511</td>\n",
              "    </tr>\n",
              "    <tr>\n",
              "        <td>NAPAK TOWN COUNCIL</td>\n",
              "        <td>8010</td>\n",
              "        <td>150906375</td>\n",
              "    </tr>\n",
              "    <tr>\n",
              "        <td>NGOLERIET</td>\n",
              "        <td>20790</td>\n",
              "        <td>158887552</td>\n",
              "    </tr>\n",
              "    <tr>\n",
              "        <td>NYAKWAE</td>\n",
              "        <td>16470</td>\n",
              "        <td>769609687</td>\n",
              "    </tr>\n",
              "    <tr>\n",
              "        <td>LOKOPO</td>\n",
              "        <td>23200</td>\n",
              "        <td>1794470536</td>\n",
              "    </tr>\n",
              "    <tr>\n",
              "        <td>RUPA</td>\n",
              "        <td>41493</td>\n",
              "        <td>2069554899</td>\n",
              "    </tr>\n",
              "    <tr>\n",
              "        <td>MORUITA</td>\n",
              "        <td>16588</td>\n",
              "        <td>839293722</td>\n",
              "    </tr>\n",
              "</table>"
            ],
            "text/plain": [
              "[('KACHERI', 17244, 1067176155),\n",
              " ('KOTIDO', 52771, 597575188),\n",
              " ('KOTIDO TOWN COUNCIL', 27389, 23972401),\n",
              " ('NAKAPERIMORU', 38775, 419111591),\n",
              " ('PANYANGARA', 65704, 880955930),\n",
              " ('RENGEN', 41273, 652744859),\n",
              " ('KAABONG  EAST', 42221, 60801942),\n",
              " ('KAABONG TOWN COUNCIL', 38857, 13071455),\n",
              " ('KAABONG WEST', 41454, 67612362),\n",
              " ('KALAPATA', 99203, 223116860),\n",
              " ('KAMION', 60070, 1199409465),\n",
              " ('KAPEDO', 33951, 304557831),\n",
              " ('KATHILE', 56870, 228457417),\n",
              " ('KAWALAKOL', 37691, 1742041261),\n",
              " ('LOBALANGIT', 22907, 302572789),\n",
              " ('LODIKO', 31820, 397700845),\n",
              " ('LOLELIA', 100919, 1069331387),\n",
              " ('LOYORO', 16608, 1330019236),\n",
              " ('NAPORE (KARENGA)', 20394, 309577387),\n",
              " ('SIDOK', 24092, 125330583),\n",
              " ('ABIM', 14377, 188613057),\n",
              " ('ABIM TOWN COUNCIL', 11489, 115941152),\n",
              " ('ALEREK', 12573, 1255760525),\n",
              " ('LOTUKEI', 18641, 191684465),\n",
              " ('MORULEM', 16834, 250364895),\n",
              " ('KARITA', 45015, 658008801),\n",
              " ('LOROO', 22541, 371970302),\n",
              " ('AMUDAT', 30181, 596393139),\n",
              " ('AMUDAT TOWN COUNCIL', 4053, 17207110),\n",
              " ('KATIKEKILE', 11772, 277451997),\n",
              " ('NADUNGET', 42115, 596023780),\n",
              " ('TAPAC', 21999, 622266516),\n",
              " ('NORTHERN DIVISION', 7161, 2738777),\n",
              " ('SOUTHERN DIVISION', 3272, 2121209),\n",
              " ('LOREGAE', 26644, 928683431),\n",
              " ('NAKAPIRIPIRIT TOWN COUNCIL', 1418, 4673094),\n",
              " ('NAMALU', 25905, 553067364),\n",
              " ('KAKOMONGOLE', 15960, 312709097),\n",
              " ('LOLACHAT', 22801, 642401705),\n",
              " ('LORENGEDWAT', 9929, 435714604),\n",
              " ('NABILATUK', 27534, 499776866),\n",
              " ('IRIIRI', 46979, 1030623258),\n",
              " ('LOPEEI', 18815, 790782350),\n",
              " ('LORENGECORA', 2503, 118997955),\n",
              " ('LOTOME', 17834, 125857565),\n",
              " ('MATANY', 29495, 338252511),\n",
              " ('NAPAK TOWN COUNCIL', 8010, 150906375),\n",
              " ('NGOLERIET', 20790, 158887552),\n",
              " ('NYAKWAE', 16470, 769609687),\n",
              " ('LOKOPO', 23200, 1794470536),\n",
              " ('RUPA', 41493, 2069554899),\n",
              " ('MORUITA', 16588, 839293722)]"
            ]
          },
          "metadata": {
            "tags": []
          },
          "execution_count": 8
        }
      ]
    },
    {
      "cell_type": "code",
      "metadata": {
        "colab_type": "code",
        "id": "lBfjC5fPtnMD",
        "colab": {
          "base_uri": "https://localhost:8080/",
          "height": 223
        },
        "outputId": "34af37e9-21cb-459f-f74a-3483703752a2"
      },
      "source": [
        "#Sort the list of districts by total crop area (descending order)\n",
        "%%sql\n",
        "SELECT \"SUBCOUNTY_NAME\", \"Crop_Area_Ha\" FROM Karamoja\n",
        "GROUP BY DISTRICT_NAME \n",
        "ORDER BY SUM (Crop_Area_Ha) DESC "
      ],
      "execution_count": null,
      "outputs": [
        {
          "output_type": "stream",
          "text": [
            " * sqlite://\n",
            "Done.\n"
          ],
          "name": "stdout"
        },
        {
          "output_type": "execute_result",
          "data": {
            "text/html": [
              "<table>\n",
              "    <tr>\n",
              "        <th>SUBCOUNTY_NAME</th>\n",
              "    </tr>\n",
              "    <tr>\n",
              "        <td>RENGEN</td>\n",
              "    </tr>\n",
              "    <tr>\n",
              "        <td>SIDOK</td>\n",
              "    </tr>\n",
              "    <tr>\n",
              "        <td>MORUITA</td>\n",
              "    </tr>\n",
              "    <tr>\n",
              "        <td>LOKOPO</td>\n",
              "    </tr>\n",
              "    <tr>\n",
              "        <td>RUPA</td>\n",
              "    </tr>\n",
              "    <tr>\n",
              "        <td>AMUDAT TOWN COUNCIL</td>\n",
              "    </tr>\n",
              "    <tr>\n",
              "        <td>NYAKWAE</td>\n",
              "    </tr>\n",
              "</table>"
            ],
            "text/plain": [
              "[('RENGEN',),\n",
              " ('SIDOK',),\n",
              " ('MORUITA',),\n",
              " ('LOKOPO',),\n",
              " ('RUPA',),\n",
              " ('AMUDAT TOWN COUNCIL',),\n",
              " ('NYAKWAE',)]"
            ]
          },
          "metadata": {
            "tags": []
          },
          "execution_count": 14
        }
      ]
    },
    {
      "cell_type": "code",
      "metadata": {
        "colab_type": "code",
        "id": "RJOrNOh4tjNJ",
        "colab": {}
      },
      "source": [
        ""
      ],
      "execution_count": null,
      "outputs": []
    },
    {
      "cell_type": "code",
      "metadata": {
        "id": "eTbhnPpcmZvm",
        "colab_type": "code",
        "colab": {}
      },
      "source": [
        ""
      ],
      "execution_count": null,
      "outputs": []
    }
  ]
}